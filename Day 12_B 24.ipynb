{
 "cells": [
  {
   "cell_type": "code",
   "execution_count": null,
   "metadata": {},
   "outputs": [],
   "source": [
    "Intrduction to conditional statements\n",
    "if -- else---> conditons."
   ]
  },
  {
   "cell_type": "code",
   "execution_count": 3,
   "metadata": {},
   "outputs": [],
   "source": [
    "age = 15"
   ]
  },
  {
   "cell_type": "code",
   "execution_count": 6,
   "metadata": {},
   "outputs": [
    {
     "name": "stdout",
     "output_type": "stream",
     "text": [
      "sorry you are not elegible to get DL\n"
     ]
    }
   ],
   "source": [
    "if age >= 18:\n",
    "    print(\"your eligible to get DL\")\n",
    "else:\n",
    "    print(\"sorry you are not elegible to get DL\")"
   ]
  },
  {
   "cell_type": "code",
   "execution_count": null,
   "metadata": {},
   "outputs": [],
   "source": [
    "how to validate multiple condition:"
   ]
  },
  {
   "cell_type": "code",
   "execution_count": null,
   "metadata": {},
   "outputs": [],
   "source": [
    "Scenario:visit to radison:\n",
    "        Room Booking option:\n",
    "            holiday pack for a people under 4 members is 20 percent discount\n",
    "            holiday pack for a people between 4 to 10 members is 25 percent discount\n",
    "            holiday pack for a people between 10 to 20 members is 30 percent discount\n",
    "            holiday pack for a people above 20 members one person entry is free"
   ]
  },
  {
   "cell_type": "code",
   "execution_count": null,
   "metadata": {},
   "outputs": [],
   "source": [
    "elif---> means else if it used for the multiple conditions"
   ]
  },
  {
   "cell_type": "code",
   "execution_count": 12,
   "metadata": {},
   "outputs": [],
   "source": [
    "people=12"
   ]
  },
  {
   "cell_type": "code",
   "execution_count": 13,
   "metadata": {},
   "outputs": [
    {
     "name": "stdout",
     "output_type": "stream",
     "text": [
      "your entry is 30 percent discount\n"
     ]
    }
   ],
   "source": [
    "if people <=4:\n",
    "    print(\"your entry is 20 percent discount\")\n",
    "elif people <=10:\n",
    "    print(\"your entry is 25 percent discount\")\n",
    "elif people <= 20:\n",
    "     print(\"your entry is 30 percent discount\")\n",
    "else :\n",
    "     print(\"in your entry 1 person is free \")"
   ]
  },
  {
   "cell_type": "code",
   "execution_count": null,
   "metadata": {},
   "outputs": [],
   "source": [
    "Introduction to user accepted input "
   ]
  },
  {
   "cell_type": "code",
   "execution_count": 16,
   "metadata": {},
   "outputs": [
    {
     "name": "stdout",
     "output_type": "stream",
     "text": [
      "tell me something and i will repeat it back for you !baby\n",
      "baby\n"
     ]
    }
   ],
   "source": [
    "message = input (\"tell me something and i will repeat it back for you !\")\n",
    "print(message)"
   ]
  },
  {
   "cell_type": "code",
   "execution_count": null,
   "metadata": {},
   "outputs": [],
   "source": [
    "# enhancement of the code."
   ]
  },
  {
   "cell_type": "code",
   "execution_count": 20,
   "metadata": {},
   "outputs": [
    {
     "name": "stdout",
     "output_type": "stream",
     "text": [
      "please enter the nameBaby\n",
      "\n",
      " good morning , Baby\n"
     ]
    }
   ],
   "source": [
    "gf_name = input(\"please enter the name\")\n",
    "print(f\"\\n good morning , {gf_name}\")"
   ]
  },
  {
   "cell_type": "code",
   "execution_count": 21,
   "metadata": {},
   "outputs": [],
   "source": [
    "prompt = 'if you tell us who you are , we can have a fun '\n",
    "prompt+= 'tell  me your sweet name! '"
   ]
  },
  {
   "cell_type": "code",
   "execution_count": 27,
   "metadata": {},
   "outputs": [
    {
     "name": "stdout",
     "output_type": "stream",
     "text": [
      "if you tell us who you are , we can have a fun tell  me your sweet name !Jaan\n",
      "\n",
      " Love u , Jaan\n"
     ]
    }
   ],
   "source": [
    "name = input (prompt)\n",
    "print(f'\\n Love u , {name}')"
   ]
  },
  {
   "cell_type": "code",
   "execution_count": null,
   "metadata": {},
   "outputs": [],
   "source": []
  },
  {
   "cell_type": "code",
   "execution_count": null,
   "metadata": {},
   "outputs": [],
   "source": []
  },
  {
   "cell_type": "code",
   "execution_count": null,
   "metadata": {},
   "outputs": [],
   "source": []
  },
  {
   "cell_type": "code",
   "execution_count": null,
   "metadata": {},
   "outputs": [],
   "source": []
  },
  {
   "cell_type": "code",
   "execution_count": null,
   "metadata": {},
   "outputs": [],
   "source": []
  }
 ],
 "metadata": {
  "kernelspec": {
   "display_name": "Python 3",
   "language": "python",
   "name": "python3"
  },
  "language_info": {
   "codemirror_mode": {
    "name": "ipython",
    "version": 3
   },
   "file_extension": ".py",
   "mimetype": "text/x-python",
   "name": "python",
   "nbconvert_exporter": "python",
   "pygments_lexer": "ipython3",
   "version": "3.7.6"
  }
 },
 "nbformat": 4,
 "nbformat_minor": 4
}
