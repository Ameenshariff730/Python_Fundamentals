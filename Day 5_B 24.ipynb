{
 "cells": [
  {
   "cell_type": "code",
   "execution_count": null,
   "metadata": {},
   "outputs": [],
   "source": [
    "Intorduction to for loop"
   ]
  },
  {
   "cell_type": "code",
   "execution_count": 1,
   "metadata": {},
   "outputs": [],
   "source": [
    "My_students=['nora', 'kriti','kareena','bipasha','parinithi','ameen']"
   ]
  },
  {
   "cell_type": "code",
   "execution_count": 2,
   "metadata": {},
   "outputs": [
    {
     "name": "stdout",
     "output_type": "stream",
     "text": [
      "['nora', 'kriti', 'kareena', 'bipasha', 'parinithi', 'ameen']\n"
     ]
    }
   ],
   "source": [
    "print(My_students)"
   ]
  },
  {
   "cell_type": "code",
   "execution_count": 3,
   "metadata": {},
   "outputs": [
    {
     "data": {
      "text/plain": [
       "list"
      ]
     },
     "execution_count": 3,
     "metadata": {},
     "output_type": "execute_result"
    }
   ],
   "source": [
    "type(My_students)"
   ]
  },
  {
   "cell_type": "code",
   "execution_count": 5,
   "metadata": {},
   "outputs": [
    {
     "name": "stdout",
     "output_type": "stream",
     "text": [
      "keep up the good work ,bipasha\n"
     ]
    }
   ],
   "source": [
    "print(f\"keep up the good work ,{My_students[3]}\" )"
   ]
  },
  {
   "cell_type": "code",
   "execution_count": null,
   "metadata": {},
   "outputs": [],
   "source": [
    "#implementation of the for loop:"
   ]
  },
  {
   "cell_type": "code",
   "execution_count": 6,
   "metadata": {},
   "outputs": [
    {
     "name": "stdout",
     "output_type": "stream",
     "text": [
      "keep up the good work,nora\n",
      "keep up the good work,kriti\n",
      "keep up the good work,kareena\n",
      "keep up the good work,bipasha\n",
      "keep up the good work,parinithi\n",
      "keep up the good work,ameen\n"
     ]
    }
   ],
   "source": [
    "for celabraties in My_students:\n",
    "    print(f\"keep up the good work,{celabraties}\")"
   ]
  },
  {
   "cell_type": "code",
   "execution_count": null,
   "metadata": {},
   "outputs": [],
   "source": [
    "#genral syntax for hte for loop:"
   ]
  },
  {
   "cell_type": "code",
   "execution_count": null,
   "metadata": {},
   "outputs": [],
   "source": [
    "for tempvar in mainvar:  #indentation ....\n",
    "    print(tempvar)"
   ]
  },
  {
   "cell_type": "code",
   "execution_count": 7,
   "metadata": {},
   "outputs": [
    {
     "name": "stdout",
     "output_type": "stream",
     "text": [
      "keep up the good work,nora\n",
      "keep up the good work,kriti\n",
      "keep up the good work,kareena\n",
      "keep up the good work,bipasha\n",
      "keep up the good work,parinithi\n",
      "keep up the good work,ameen\n"
     ]
    }
   ],
   "source": [
    "for x in My_students:\n",
    "    print(f\"keep up the good work,{x}\")"
   ]
  },
  {
   "cell_type": "code",
   "execution_count": 9,
   "metadata": {},
   "outputs": [
    {
     "name": "stdout",
     "output_type": "stream",
     "text": [
      "keep up the good work ,nora\n",
      "keep up the good work ,kriti\n",
      "keep up the good work ,kareena\n",
      "keep up the good work ,bipasha\n",
      "keep up the good work ,parinithi\n",
      "keep up the good work ,ameen\n"
     ]
    }
   ],
   "source": [
    "for friends in My_students:\n",
    "    print(f\"keep up the good work ,{friends}\")"
   ]
  },
  {
   "cell_type": "code",
   "execution_count": 11,
   "metadata": {},
   "outputs": [
    {
     "name": "stdout",
     "output_type": "stream",
     "text": [
      "keep up the good work ,nora\n",
      "I am Waiting to meet u ,nora\n",
      "keep up the good work ,kriti\n",
      "I am Waiting to meet u ,kriti\n",
      "keep up the good work ,kareena\n",
      "I am Waiting to meet u ,kareena\n",
      "keep up the good work ,bipasha\n",
      "I am Waiting to meet u ,bipasha\n",
      "keep up the good work ,parinithi\n",
      "I am Waiting to meet u ,parinithi\n",
      "keep up the good work ,ameen\n",
      "I am Waiting to meet u ,ameen\n"
     ]
    }
   ],
   "source": [
    "for friends in My_students:\n",
    "    print(f\"keep up the good work ,{friends}\")\n",
    "    print(f\"I am Waiting to meet u ,{friends}\")"
   ]
  },
  {
   "cell_type": "code",
   "execution_count": 12,
   "metadata": {},
   "outputs": [
    {
     "name": "stdout",
     "output_type": "stream",
     "text": [
      "keep up the good work ,nora\n",
      "I am Waiting to meet u ,nora.\n",
      "\n",
      "keep up the good work ,kriti\n",
      "I am Waiting to meet u ,kriti.\n",
      "\n",
      "keep up the good work ,kareena\n",
      "I am Waiting to meet u ,kareena.\n",
      "\n",
      "keep up the good work ,bipasha\n",
      "I am Waiting to meet u ,bipasha.\n",
      "\n",
      "keep up the good work ,parinithi\n",
      "I am Waiting to meet u ,parinithi.\n",
      "\n",
      "keep up the good work ,ameen\n",
      "I am Waiting to meet u ,ameen.\n",
      "\n"
     ]
    }
   ],
   "source": [
    "for friends in My_students:\n",
    "    print(f\"keep up the good work ,{friends}\")\n",
    "    print(f\"I am Waiting to meet u ,{friends}.\\n\")"
   ]
  },
  {
   "cell_type": "code",
   "execution_count": 14,
   "metadata": {},
   "outputs": [
    {
     "name": "stdout",
     "output_type": "stream",
     "text": [
      "keep up the good work ,nora\n",
      "I am Waiting to meet u ,nora.\n",
      "\n",
      "keep up the good work ,kriti\n",
      "I am Waiting to meet u ,kriti.\n",
      "\n",
      "keep up the good work ,kareena\n",
      "I am Waiting to meet u ,kareena.\n",
      "\n",
      "keep up the good work ,bipasha\n",
      "I am Waiting to meet u ,bipasha.\n",
      "\n",
      "keep up the good work ,parinithi\n",
      "I am Waiting to meet u ,parinithi.\n",
      "\n",
      "keep up the good work ,ameen\n",
      "I am Waiting to meet u ,ameen.\n",
      "\n",
      "Thank you for making me so special\n"
     ]
    }
   ],
   "source": [
    "for friends in My_students:\n",
    "    print(f\"keep up the good work ,{friends}\")\n",
    "    print(f\"I am Waiting to meet u ,{friends}.\\n\")\n",
    "print(f\"Thank you for making me so special\")    #printing out of the loop..!"
   ]
  },
  {
   "cell_type": "code",
   "execution_count": null,
   "metadata": {},
   "outputs": [],
   "source": []
  },
  {
   "cell_type": "code",
   "execution_count": null,
   "metadata": {},
   "outputs": [],
   "source": []
  },
  {
   "cell_type": "code",
   "execution_count": null,
   "metadata": {},
   "outputs": [],
   "source": []
  },
  {
   "cell_type": "code",
   "execution_count": null,
   "metadata": {},
   "outputs": [],
   "source": []
  },
  {
   "cell_type": "code",
   "execution_count": null,
   "metadata": {},
   "outputs": [],
   "source": []
  },
  {
   "cell_type": "code",
   "execution_count": null,
   "metadata": {},
   "outputs": [],
   "source": []
  },
  {
   "cell_type": "code",
   "execution_count": null,
   "metadata": {},
   "outputs": [],
   "source": []
  },
  {
   "cell_type": "code",
   "execution_count": null,
   "metadata": {},
   "outputs": [],
   "source": []
  }
 ],
 "metadata": {
  "kernelspec": {
   "display_name": "Python 3",
   "language": "python",
   "name": "python3"
  },
  "language_info": {
   "codemirror_mode": {
    "name": "ipython",
    "version": 3
   },
   "file_extension": ".py",
   "mimetype": "text/x-python",
   "name": "python",
   "nbconvert_exporter": "python",
   "pygments_lexer": "ipython3",
   "version": "3.7.6"
  }
 },
 "nbformat": 4,
 "nbformat_minor": 4
}
